{
 "cells": [
  {
   "cell_type": "markdown",
   "id": "489b14d5",
   "metadata": {},
   "source": [
    "# 0. Installing required Python Packages"
   ]
  },
  {
   "cell_type": "code",
   "execution_count": 283,
   "id": "9a5e1340",
   "metadata": {},
   "outputs": [
    {
     "name": "stdout",
     "output_type": "stream",
     "text": [
      "Requirement already satisfied: torch==2.3.0 in c:\\users\\mamat\\onedrive\\bureau\\python_session6\\.venv\\lib\\site-packages (2.3.0)\n",
      "Requirement already satisfied: torchmetrics==1.4.0.post0 in c:\\users\\mamat\\onedrive\\bureau\\python_session6\\.venv\\lib\\site-packages (1.4.0.post0)\n",
      "Requirement already satisfied: transformers==4.41.2 in c:\\users\\mamat\\onedrive\\bureau\\python_session6\\.venv\\lib\\site-packages (4.41.2)\n",
      "Requirement already satisfied: accelerate==0.30.1 in c:\\users\\mamat\\onedrive\\bureau\\python_session6\\.venv\\lib\\site-packages (0.30.1)\n",
      "Requirement already satisfied: datasets==2.19.1 in c:\\users\\mamat\\onedrive\\bureau\\python_session6\\.venv\\lib\\site-packages (2.19.1)\n",
      "Requirement already satisfied: tokenizers==0.19.1 in c:\\users\\mamat\\onedrive\\bureau\\python_session6\\.venv\\lib\\site-packages (0.19.1)\n",
      "Requirement already satisfied: evaluate==0.4.2 in c:\\users\\mamat\\onedrive\\bureau\\python_session6\\.venv\\lib\\site-packages (0.4.2)\n",
      "Requirement already satisfied: numpy==1.26.4 in c:\\users\\mamat\\onedrive\\bureau\\python_session6\\.venv\\lib\\site-packages (1.26.4)\n",
      "Requirement already satisfied: tqdm==4.66.4 in c:\\users\\mamat\\onedrive\\bureau\\python_session6\\.venv\\lib\\site-packages (4.66.4)\n",
      "Requirement already satisfied: tensorboard==2.16.2 in c:\\users\\mamat\\onedrive\\bureau\\python_session6\\.venv\\lib\\site-packages (2.16.2)\n",
      "Requirement already satisfied: matplotlib==3.9.0 in c:\\users\\mamat\\onedrive\\bureau\\python_session6\\.venv\\lib\\site-packages (3.9.0)\n",
      "Requirement already satisfied: filelock in c:\\users\\mamat\\onedrive\\bureau\\python_session6\\.venv\\lib\\site-packages (from torch==2.3.0) (3.18.0)\n",
      "Requirement already satisfied: typing-extensions>=4.8.0 in c:\\users\\mamat\\onedrive\\bureau\\python_session6\\.venv\\lib\\site-packages (from torch==2.3.0) (4.13.2)\n",
      "Requirement already satisfied: sympy in c:\\users\\mamat\\onedrive\\bureau\\python_session6\\.venv\\lib\\site-packages (from torch==2.3.0) (1.14.0)\n",
      "Requirement already satisfied: networkx in c:\\users\\mamat\\onedrive\\bureau\\python_session6\\.venv\\lib\\site-packages (from torch==2.3.0) (3.4.2)\n",
      "Requirement already satisfied: jinja2 in c:\\users\\mamat\\onedrive\\bureau\\python_session6\\.venv\\lib\\site-packages (from torch==2.3.0) (3.1.6)\n",
      "Requirement already satisfied: fsspec in c:\\users\\mamat\\onedrive\\bureau\\python_session6\\.venv\\lib\\site-packages (from torch==2.3.0) (2024.3.1)\n",
      "Requirement already satisfied: mkl<=2021.4.0,>=2021.1.1 in c:\\users\\mamat\\onedrive\\bureau\\python_session6\\.venv\\lib\\site-packages (from torch==2.3.0) (2021.4.0)\n",
      "Requirement already satisfied: packaging>17.1 in c:\\users\\mamat\\onedrive\\bureau\\python_session6\\.venv\\lib\\site-packages (from torchmetrics==1.4.0.post0) (25.0)\n",
      "Requirement already satisfied: lightning-utilities>=0.8.0 in c:\\users\\mamat\\onedrive\\bureau\\python_session6\\.venv\\lib\\site-packages (from torchmetrics==1.4.0.post0) (0.14.3)\n",
      "Requirement already satisfied: huggingface-hub<1.0,>=0.23.0 in c:\\users\\mamat\\onedrive\\bureau\\python_session6\\.venv\\lib\\site-packages (from transformers==4.41.2) (0.31.2)\n",
      "Requirement already satisfied: pyyaml>=5.1 in c:\\users\\mamat\\onedrive\\bureau\\python_session6\\.venv\\lib\\site-packages (from transformers==4.41.2) (6.0.2)\n",
      "Requirement already satisfied: regex!=2019.12.17 in c:\\users\\mamat\\onedrive\\bureau\\python_session6\\.venv\\lib\\site-packages (from transformers==4.41.2) (2024.11.6)\n",
      "Requirement already satisfied: requests in c:\\users\\mamat\\onedrive\\bureau\\python_session6\\.venv\\lib\\site-packages (from transformers==4.41.2) (2.32.3)\n",
      "Requirement already satisfied: safetensors>=0.4.1 in c:\\users\\mamat\\onedrive\\bureau\\python_session6\\.venv\\lib\\site-packages (from transformers==4.41.2) (0.5.3)\n",
      "Requirement already satisfied: psutil in c:\\users\\mamat\\onedrive\\bureau\\python_session6\\.venv\\lib\\site-packages (from accelerate==0.30.1) (7.0.0)\n",
      "Requirement already satisfied: pyarrow>=12.0.0 in c:\\users\\mamat\\onedrive\\bureau\\python_session6\\.venv\\lib\\site-packages (from datasets==2.19.1) (20.0.0)\n",
      "Requirement already satisfied: pyarrow-hotfix in c:\\users\\mamat\\onedrive\\bureau\\python_session6\\.venv\\lib\\site-packages (from datasets==2.19.1) (0.7)\n",
      "Requirement already satisfied: dill<0.3.9,>=0.3.0 in c:\\users\\mamat\\onedrive\\bureau\\python_session6\\.venv\\lib\\site-packages (from datasets==2.19.1) (0.3.8)\n",
      "Requirement already satisfied: pandas in c:\\users\\mamat\\onedrive\\bureau\\python_session6\\.venv\\lib\\site-packages (from datasets==2.19.1) (2.2.3)\n",
      "Requirement already satisfied: xxhash in c:\\users\\mamat\\onedrive\\bureau\\python_session6\\.venv\\lib\\site-packages (from datasets==2.19.1) (3.5.0)\n",
      "Requirement already satisfied: multiprocess in c:\\users\\mamat\\onedrive\\bureau\\python_session6\\.venv\\lib\\site-packages (from datasets==2.19.1) (0.70.16)\n",
      "Requirement already satisfied: aiohttp in c:\\users\\mamat\\onedrive\\bureau\\python_session6\\.venv\\lib\\site-packages (from datasets==2.19.1) (3.11.18)\n",
      "Requirement already satisfied: colorama in c:\\users\\mamat\\onedrive\\bureau\\python_session6\\.venv\\lib\\site-packages (from tqdm==4.66.4) (0.4.6)\n",
      "Requirement already satisfied: absl-py>=0.4 in c:\\users\\mamat\\onedrive\\bureau\\python_session6\\.venv\\lib\\site-packages (from tensorboard==2.16.2) (2.2.2)\n",
      "Requirement already satisfied: grpcio>=1.48.2 in c:\\users\\mamat\\onedrive\\bureau\\python_session6\\.venv\\lib\\site-packages (from tensorboard==2.16.2) (1.71.0)\n",
      "Requirement already satisfied: markdown>=2.6.8 in c:\\users\\mamat\\onedrive\\bureau\\python_session6\\.venv\\lib\\site-packages (from tensorboard==2.16.2) (3.8)\n",
      "Requirement already satisfied: protobuf!=4.24.0,>=3.19.6 in c:\\users\\mamat\\onedrive\\bureau\\python_session6\\.venv\\lib\\site-packages (from tensorboard==2.16.2) (6.30.2)\n",
      "Requirement already satisfied: setuptools>=41.0.0 in c:\\users\\mamat\\onedrive\\bureau\\python_session6\\.venv\\lib\\site-packages (from tensorboard==2.16.2) (80.4.0)\n",
      "Requirement already satisfied: six>1.9 in c:\\users\\mamat\\onedrive\\bureau\\python_session6\\.venv\\lib\\site-packages (from tensorboard==2.16.2) (1.17.0)\n",
      "Requirement already satisfied: tensorboard-data-server<0.8.0,>=0.7.0 in c:\\users\\mamat\\onedrive\\bureau\\python_session6\\.venv\\lib\\site-packages (from tensorboard==2.16.2) (0.7.2)\n",
      "Requirement already satisfied: werkzeug>=1.0.1 in c:\\users\\mamat\\onedrive\\bureau\\python_session6\\.venv\\lib\\site-packages (from tensorboard==2.16.2) (3.1.3)\n",
      "Requirement already satisfied: contourpy>=1.0.1 in c:\\users\\mamat\\onedrive\\bureau\\python_session6\\.venv\\lib\\site-packages (from matplotlib==3.9.0) (1.3.2)\n",
      "Requirement already satisfied: cycler>=0.10 in c:\\users\\mamat\\onedrive\\bureau\\python_session6\\.venv\\lib\\site-packages (from matplotlib==3.9.0) (0.12.1)\n",
      "Requirement already satisfied: fonttools>=4.22.0 in c:\\users\\mamat\\onedrive\\bureau\\python_session6\\.venv\\lib\\site-packages (from matplotlib==3.9.0) (4.58.0)\n",
      "Requirement already satisfied: kiwisolver>=1.3.1 in c:\\users\\mamat\\onedrive\\bureau\\python_session6\\.venv\\lib\\site-packages (from matplotlib==3.9.0) (1.4.8)\n",
      "Requirement already satisfied: pillow>=8 in c:\\users\\mamat\\onedrive\\bureau\\python_session6\\.venv\\lib\\site-packages (from matplotlib==3.9.0) (11.2.1)\n",
      "Requirement already satisfied: pyparsing>=2.3.1 in c:\\users\\mamat\\onedrive\\bureau\\python_session6\\.venv\\lib\\site-packages (from matplotlib==3.9.0) (3.2.3)\n",
      "Requirement already satisfied: python-dateutil>=2.7 in c:\\users\\mamat\\onedrive\\bureau\\python_session6\\.venv\\lib\\site-packages (from matplotlib==3.9.0) (2.9.0.post0)\n",
      "Requirement already satisfied: aiohappyeyeballs>=2.3.0 in c:\\users\\mamat\\onedrive\\bureau\\python_session6\\.venv\\lib\\site-packages (from aiohttp->datasets==2.19.1) (2.6.1)\n",
      "Requirement already satisfied: aiosignal>=1.1.2 in c:\\users\\mamat\\onedrive\\bureau\\python_session6\\.venv\\lib\\site-packages (from aiohttp->datasets==2.19.1) (1.3.2)\n",
      "Requirement already satisfied: attrs>=17.3.0 in c:\\users\\mamat\\onedrive\\bureau\\python_session6\\.venv\\lib\\site-packages (from aiohttp->datasets==2.19.1) (25.3.0)\n",
      "Requirement already satisfied: frozenlist>=1.1.1 in c:\\users\\mamat\\onedrive\\bureau\\python_session6\\.venv\\lib\\site-packages (from aiohttp->datasets==2.19.1) (1.6.0)\n",
      "Requirement already satisfied: multidict<7.0,>=4.5 in c:\\users\\mamat\\onedrive\\bureau\\python_session6\\.venv\\lib\\site-packages (from aiohttp->datasets==2.19.1) (6.4.3)\n",
      "Requirement already satisfied: propcache>=0.2.0 in c:\\users\\mamat\\onedrive\\bureau\\python_session6\\.venv\\lib\\site-packages (from aiohttp->datasets==2.19.1) (0.3.1)\n",
      "Requirement already satisfied: yarl<2.0,>=1.17.0 in c:\\users\\mamat\\onedrive\\bureau\\python_session6\\.venv\\lib\\site-packages (from aiohttp->datasets==2.19.1) (1.20.0)\n",
      "Requirement already satisfied: intel-openmp==2021.* in c:\\users\\mamat\\onedrive\\bureau\\python_session6\\.venv\\lib\\site-packages (from mkl<=2021.4.0,>=2021.1.1->torch==2.3.0) (2021.4.0)\n",
      "Requirement already satisfied: tbb==2021.* in c:\\users\\mamat\\onedrive\\bureau\\python_session6\\.venv\\lib\\site-packages (from mkl<=2021.4.0,>=2021.1.1->torch==2.3.0) (2021.13.1)\n",
      "Requirement already satisfied: charset-normalizer<4,>=2 in c:\\users\\mamat\\onedrive\\bureau\\python_session6\\.venv\\lib\\site-packages (from requests->transformers==4.41.2) (3.4.2)\n",
      "Requirement already satisfied: idna<4,>=2.5 in c:\\users\\mamat\\onedrive\\bureau\\python_session6\\.venv\\lib\\site-packages (from requests->transformers==4.41.2) (3.10)\n",
      "Requirement already satisfied: urllib3<3,>=1.21.1 in c:\\users\\mamat\\onedrive\\bureau\\python_session6\\.venv\\lib\\site-packages (from requests->transformers==4.41.2) (2.4.0)\n",
      "Requirement already satisfied: certifi>=2017.4.17 in c:\\users\\mamat\\onedrive\\bureau\\python_session6\\.venv\\lib\\site-packages (from requests->transformers==4.41.2) (2025.4.26)\n",
      "Requirement already satisfied: MarkupSafe>=2.1.1 in c:\\users\\mamat\\onedrive\\bureau\\python_session6\\.venv\\lib\\site-packages (from werkzeug>=1.0.1->tensorboard==2.16.2) (3.0.2)\n",
      "Requirement already satisfied: pytz>=2020.1 in c:\\users\\mamat\\onedrive\\bureau\\python_session6\\.venv\\lib\\site-packages (from pandas->datasets==2.19.1) (2025.2)\n",
      "Requirement already satisfied: tzdata>=2022.7 in c:\\users\\mamat\\onedrive\\bureau\\python_session6\\.venv\\lib\\site-packages (from pandas->datasets==2.19.1) (2025.2)\n",
      "Requirement already satisfied: mpmath<1.4,>=1.1.0 in c:\\users\\mamat\\onedrive\\bureau\\python_session6\\.venv\\lib\\site-packages (from sympy->torch==2.3.0) (1.3.0)\n"
     ]
    },
    {
     "name": "stderr",
     "output_type": "stream",
     "text": [
      "\n",
      "[notice] A new release of pip is available: 25.0.1 -> 25.1.1\n",
      "[notice] To update, run: python.exe -m pip install --upgrade pip\n"
     ]
    }
   ],
   "source": [
    "!pip install torch==2.3.0 torchmetrics==1.4.0.post0 transformers==4.41.2 accelerate==0.30.1 datasets==2.19.1 tokenizers==0.19.1 evaluate==0.4.2 numpy==1.26.4 tqdm==4.66.4 tensorboard==2.16.2 matplotlib==3.9.0 "
   ]
  },
  {
   "cell_type": "markdown",
   "id": "cf68a4c6",
   "metadata": {},
   "source": [
    "# Project Finances: Risque default de credits"
   ]
  },
  {
   "cell_type": "markdown",
   "id": "7767be99",
   "metadata": {},
   "source": [
    "- **Context**:\n",
    "    - \n",
    "    - \n",
    "    - \n",
    "- **Goal**:\n",
    "    - \n",
    "    - \n",
    "    - \n",
    "- **Data**:\n",
    "    - **Dataset #1**: [Kaggle Twitter US Airline Sentiment](https://www.kaggle.com/datasets/crowdflower/twitter-airline-sentiment)\n",
    "- **Challenges**:\n",
    "    - \n",
    "    - \n",
    "    - "
   ]
  },
  {
   "cell_type": "markdown",
   "id": "4bdd2d01",
   "metadata": {},
   "source": [
    "## Load and Explore\n",
    "- Let's quick load and explore to see which one should be the best suitable for this project "
   ]
  },
  {
   "cell_type": "code",
   "execution_count": 249,
   "id": "36c141ac",
   "metadata": {},
   "outputs": [],
   "source": [
    "import pandas as pd"
   ]
  },
  {
   "cell_type": "code",
   "execution_count": 250,
   "id": "159f7f36",
   "metadata": {},
   "outputs": [],
   "source": [
    "csv_file = 'Risque defaut de credit.csv'"
   ]
  },
  {
   "cell_type": "code",
   "execution_count": 251,
   "id": "c314a001",
   "metadata": {},
   "outputs": [
    {
     "name": "stdout",
     "output_type": "stream",
     "text": [
      "Répertoire courant : c:\\Users\\mamat\\OneDrive\\Bureau\\python_session6\n",
      "Contenu : ['.git', '.venv', 'Risque defaut de credit.csv', 'Risque_defaut_credit_traite.csv']\n"
     ]
    }
   ],
   "source": [
    "import os\n",
    "\n",
    "print(\"Répertoire courant :\", os.getcwd())\n",
    "print(\"Contenu :\", os.listdir())\n"
   ]
  },
  {
   "cell_type": "code",
   "execution_count": 252,
   "id": "1f81a879",
   "metadata": {},
   "outputs": [],
   "source": [
    "csv_file = 'Risque defaut de credit.csv' "
   ]
  },
  {
   "cell_type": "code",
   "execution_count": 254,
   "id": "991cc9ad",
   "metadata": {},
   "outputs": [
    {
     "data": {
      "text/html": [
       "<div>\n",
       "<style scoped>\n",
       "    .dataframe tbody tr th:only-of-type {\n",
       "        vertical-align: middle;\n",
       "    }\n",
       "\n",
       "    .dataframe tbody tr th {\n",
       "        vertical-align: top;\n",
       "    }\n",
       "\n",
       "    .dataframe thead th {\n",
       "        text-align: right;\n",
       "    }\n",
       "</style>\n",
       "<table border=\"1\" class=\"dataframe\">\n",
       "  <thead>\n",
       "    <tr style=\"text-align: right;\">\n",
       "      <th></th>\n",
       "      <th>id</th>\n",
       "      <th>member_id</th>\n",
       "      <th>loan_amnt</th>\n",
       "      <th>funded_amnt</th>\n",
       "      <th>funded_amnt_inv</th>\n",
       "      <th>term</th>\n",
       "      <th>int_rate</th>\n",
       "      <th>installment</th>\n",
       "      <th>grade</th>\n",
       "      <th>sub_grade</th>\n",
       "      <th>...</th>\n",
       "      <th>total_bal_il</th>\n",
       "      <th>il_util</th>\n",
       "      <th>open_rv_12m</th>\n",
       "      <th>open_rv_24m</th>\n",
       "      <th>max_bal_bc</th>\n",
       "      <th>all_util</th>\n",
       "      <th>total_rev_hi_lim</th>\n",
       "      <th>inq_fi</th>\n",
       "      <th>total_cu_tl</th>\n",
       "      <th>inq_last_12m;;;;;;;;;;;;;;;;;;;;;;;;;;;;;;;;;;;;;;;;;;;;;;;;;;;;;;;;;</th>\n",
       "    </tr>\n",
       "  </thead>\n",
       "  <tbody>\n",
       "    <tr>\n",
       "      <th>0</th>\n",
       "      <td>1077501</td>\n",
       "      <td>1296599</td>\n",
       "      <td>5000.0</td>\n",
       "      <td>5000.0</td>\n",
       "      <td>4975.0</td>\n",
       "      <td>36 months</td>\n",
       "      <td>10.65</td>\n",
       "      <td>162.87</td>\n",
       "      <td>B</td>\n",
       "      <td>B2</td>\n",
       "      <td>...</td>\n",
       "      <td>NaN</td>\n",
       "      <td>NaN</td>\n",
       "      <td>NaN</td>\n",
       "      <td>NaN</td>\n",
       "      <td>NaN</td>\n",
       "      <td>NaN</td>\n",
       "      <td>NaN</td>\n",
       "      <td>NaN</td>\n",
       "      <td>NaN</td>\n",
       "      <td>;;;;;;;;;;;;;;;;;;;;;;;;;;;;;;;;;;;;;;;;;;;;;;...</td>\n",
       "    </tr>\n",
       "    <tr>\n",
       "      <th>1</th>\n",
       "      <td>1077430</td>\n",
       "      <td>1314167</td>\n",
       "      <td>2500.0</td>\n",
       "      <td>2500.0</td>\n",
       "      <td>2500.0</td>\n",
       "      <td>60 months</td>\n",
       "      <td>15.27</td>\n",
       "      <td>59.83</td>\n",
       "      <td>C</td>\n",
       "      <td>C4</td>\n",
       "      <td>...</td>\n",
       "      <td>NaN</td>\n",
       "      <td>NaN</td>\n",
       "      <td>NaN</td>\n",
       "      <td>NaN</td>\n",
       "      <td>NaN</td>\n",
       "      <td>NaN</td>\n",
       "      <td>NaN</td>\n",
       "      <td>NaN</td>\n",
       "      <td>NaN</td>\n",
       "      <td>;;;;;;;;;;;;;;;;;;;;;;;;;;;;;;;;;;;;;;;;;;;;;;...</td>\n",
       "    </tr>\n",
       "    <tr>\n",
       "      <th>2</th>\n",
       "      <td>1077175</td>\n",
       "      <td>1313524</td>\n",
       "      <td>2400.0</td>\n",
       "      <td>2400.0</td>\n",
       "      <td>2400.0</td>\n",
       "      <td>36 months</td>\n",
       "      <td>15.96</td>\n",
       "      <td>84.33</td>\n",
       "      <td>C</td>\n",
       "      <td>C5</td>\n",
       "      <td>...</td>\n",
       "      <td>NaN</td>\n",
       "      <td>NaN</td>\n",
       "      <td>NaN</td>\n",
       "      <td>NaN</td>\n",
       "      <td>NaN</td>\n",
       "      <td>NaN</td>\n",
       "      <td>NaN</td>\n",
       "      <td>NaN</td>\n",
       "      <td>NaN</td>\n",
       "      <td>;;;;;;;;;;;;;;;;;;;;;;;;;;;;;;;;;;;;;;;;;;;;;;...</td>\n",
       "    </tr>\n",
       "    <tr>\n",
       "      <th>3</th>\n",
       "      <td>1075269</td>\n",
       "      <td>1311441</td>\n",
       "      <td>5000.0</td>\n",
       "      <td>5000.0</td>\n",
       "      <td>5000.0</td>\n",
       "      <td>36 months</td>\n",
       "      <td>7.90</td>\n",
       "      <td>156.46</td>\n",
       "      <td>A</td>\n",
       "      <td>A4</td>\n",
       "      <td>...</td>\n",
       "      <td>NaN</td>\n",
       "      <td>NaN</td>\n",
       "      <td>NaN</td>\n",
       "      <td>NaN</td>\n",
       "      <td>NaN</td>\n",
       "      <td>NaN</td>\n",
       "      <td>NaN</td>\n",
       "      <td>NaN</td>\n",
       "      <td>NaN</td>\n",
       "      <td>;;;;;;;;;;;;;;;;;;;;;;;;;;;;;;;;;;;;;;;;;;;;;;...</td>\n",
       "    </tr>\n",
       "    <tr>\n",
       "      <th>4</th>\n",
       "      <td>1072053</td>\n",
       "      <td>1288686</td>\n",
       "      <td>3000.0</td>\n",
       "      <td>3000.0</td>\n",
       "      <td>3000.0</td>\n",
       "      <td>36 months</td>\n",
       "      <td>18.64</td>\n",
       "      <td>109.43</td>\n",
       "      <td>E</td>\n",
       "      <td>E1</td>\n",
       "      <td>...</td>\n",
       "      <td>NaN</td>\n",
       "      <td>NaN</td>\n",
       "      <td>NaN</td>\n",
       "      <td>NaN</td>\n",
       "      <td>NaN</td>\n",
       "      <td>NaN</td>\n",
       "      <td>NaN</td>\n",
       "      <td>NaN</td>\n",
       "      <td>NaN</td>\n",
       "      <td>;;;;;;;;;;;;;;;;;;;;;;;;;;;;;;;;;;;;;;;;;;;;;;...</td>\n",
       "    </tr>\n",
       "  </tbody>\n",
       "</table>\n",
       "<p>5 rows × 74 columns</p>\n",
       "</div>"
      ],
      "text/plain": [
       "        id  member_id  loan_amnt  funded_amnt  funded_amnt_inv        term  \\\n",
       "0  1077501    1296599     5000.0       5000.0           4975.0   36 months   \n",
       "1  1077430    1314167     2500.0       2500.0           2500.0   60 months   \n",
       "2  1077175    1313524     2400.0       2400.0           2400.0   36 months   \n",
       "3  1075269    1311441     5000.0       5000.0           5000.0   36 months   \n",
       "4  1072053    1288686     3000.0       3000.0           3000.0   36 months   \n",
       "\n",
       "   int_rate  installment grade sub_grade  ... total_bal_il il_util  \\\n",
       "0     10.65       162.87     B        B2  ...          NaN     NaN   \n",
       "1     15.27        59.83     C        C4  ...          NaN     NaN   \n",
       "2     15.96        84.33     C        C5  ...          NaN     NaN   \n",
       "3      7.90       156.46     A        A4  ...          NaN     NaN   \n",
       "4     18.64       109.43     E        E1  ...          NaN     NaN   \n",
       "\n",
       "  open_rv_12m  open_rv_24m max_bal_bc all_util total_rev_hi_lim inq_fi  \\\n",
       "0         NaN          NaN        NaN      NaN              NaN    NaN   \n",
       "1         NaN          NaN        NaN      NaN              NaN    NaN   \n",
       "2         NaN          NaN        NaN      NaN              NaN    NaN   \n",
       "3         NaN          NaN        NaN      NaN              NaN    NaN   \n",
       "4         NaN          NaN        NaN      NaN              NaN    NaN   \n",
       "\n",
       "  total_cu_tl  \\\n",
       "0         NaN   \n",
       "1         NaN   \n",
       "2         NaN   \n",
       "3         NaN   \n",
       "4         NaN   \n",
       "\n",
       "  inq_last_12m;;;;;;;;;;;;;;;;;;;;;;;;;;;;;;;;;;;;;;;;;;;;;;;;;;;;;;;;;  \n",
       "0  ;;;;;;;;;;;;;;;;;;;;;;;;;;;;;;;;;;;;;;;;;;;;;;...                     \n",
       "1  ;;;;;;;;;;;;;;;;;;;;;;;;;;;;;;;;;;;;;;;;;;;;;;...                     \n",
       "2  ;;;;;;;;;;;;;;;;;;;;;;;;;;;;;;;;;;;;;;;;;;;;;;...                     \n",
       "3  ;;;;;;;;;;;;;;;;;;;;;;;;;;;;;;;;;;;;;;;;;;;;;;...                     \n",
       "4  ;;;;;;;;;;;;;;;;;;;;;;;;;;;;;;;;;;;;;;;;;;;;;;...                     \n",
       "\n",
       "[5 rows x 74 columns]"
      ]
     },
     "execution_count": 254,
     "metadata": {},
     "output_type": "execute_result"
    }
   ],
   "source": [
    "df = pd.read_csv(csv_file, engine='python', on_bad_lines='skip')\n",
    "df.head()"
   ]
  },
  {
   "cell_type": "code",
   "execution_count": 259,
   "id": "fcd1c65a",
   "metadata": {},
   "outputs": [
    {
     "name": "stdout",
     "output_type": "stream",
     "text": [
      "Dataset Info: \n",
      "<class 'pandas.core.frame.DataFrame'>\n",
      "RangeIndex: 833400 entries, 0 to 833399\n",
      "Data columns (total 74 columns):\n",
      " #   Column                                                                 Non-Null Count   Dtype  \n",
      "---  ------                                                                 --------------   -----  \n",
      " 0   id                                                                     833400 non-null  int64  \n",
      " 1   member_id                                                              833400 non-null  int64  \n",
      " 2   loan_amnt                                                              833400 non-null  float64\n",
      " 3   funded_amnt                                                            833400 non-null  float64\n",
      " 4   funded_amnt_inv                                                        833400 non-null  float64\n",
      " 5   term                                                                   833400 non-null  object \n",
      " 6   int_rate                                                               833400 non-null  float64\n",
      " 7   installment                                                            833400 non-null  float64\n",
      " 8   grade                                                                  833400 non-null  object \n",
      " 9   sub_grade                                                              833400 non-null  object \n",
      " 10  emp_title                                                              784453 non-null  object \n",
      " 11  emp_length                                                             789839 non-null  object \n",
      " 12  home_ownership                                                         833400 non-null  object \n",
      " 13  annual_inc                                                             833399 non-null  float64\n",
      " 14  verification_status                                                    833400 non-null  object \n",
      " 15  issue_d                                                                833400 non-null  object \n",
      " 16  loan_status                                                            833400 non-null  object \n",
      " 17  pymnt_plan                                                             833400 non-null  object \n",
      " 18  url                                                                    833400 non-null  object \n",
      " 19  desc                                                                   83192 non-null   object \n",
      " 20  purpose                                                                833400 non-null  object \n",
      " 21  title                                                                  833254 non-null  object \n",
      " 22  zip_code                                                               833400 non-null  object \n",
      " 23  addr_state                                                             833400 non-null  object \n",
      " 24  dti                                                                    833400 non-null  float64\n",
      " 25  delinq_2yrs                                                            833383 non-null  float64\n",
      " 26  earliest_cr_line                                                       833383 non-null  object \n",
      " 27  inq_last_6mths                                                         833383 non-null  float64\n",
      " 28  mths_since_last_delinq                                                 411024 non-null  float64\n",
      " 29  mths_since_last_record                                                 132130 non-null  float64\n",
      " 30  open_acc                                                               833383 non-null  float64\n",
      " 31  pub_rec                                                                833383 non-null  float64\n",
      " 32  revol_bal                                                              833400 non-null  float64\n",
      " 33  revol_util                                                             832960 non-null  float64\n",
      " 34  total_acc                                                              833383 non-null  float64\n",
      " 35  initial_list_status                                                    833400 non-null  object \n",
      " 36  out_prncp                                                              833400 non-null  float64\n",
      " 37  out_prncp_inv                                                          833400 non-null  float64\n",
      " 38  total_pymnt                                                            833400 non-null  float64\n",
      " 39  total_pymnt_inv                                                        833400 non-null  float64\n",
      " 40  total_rec_prncp                                                        833400 non-null  float64\n",
      " 41  total_rec_int                                                          833400 non-null  float64\n",
      " 42  total_rec_late_fee                                                     833400 non-null  float64\n",
      " 43  recoveries                                                             833400 non-null  float64\n",
      " 44  collection_recovery_fee                                                833400 non-null  float64\n",
      " 45  last_pymnt_d                                                           815937 non-null  object \n",
      " 46  last_pymnt_amnt                                                        833400 non-null  float64\n",
      " 47  next_pymnt_d                                                           617152 non-null  object \n",
      " 48  last_credit_pull_d                                                     833351 non-null  object \n",
      " 49  collections_12_mths_ex_med                                             833320 non-null  float64\n",
      " 50  mths_since_last_major_derog                                            215228 non-null  float64\n",
      " 51  policy_code                                                            833400 non-null  float64\n",
      " 52  application_type                                                       833400 non-null  object \n",
      " 53  annual_inc_joint                                                       510 non-null     float64\n",
      " 54  dti_joint                                                              508 non-null     float64\n",
      " 55  verification_status_joint                                              510 non-null     object \n",
      " 56  acc_now_delinq                                                         833383 non-null  float64\n",
      " 57  tot_coll_amt                                                           786400 non-null  float64\n",
      " 58  tot_cur_bal                                                            786400 non-null  float64\n",
      " 59  open_acc_6m                                                            21187 non-null   float64\n",
      " 60  open_il_6m                                                             21187 non-null   float64\n",
      " 61  open_il_12m                                                            21187 non-null   float64\n",
      " 62  open_il_24m                                                            21187 non-null   float64\n",
      " 63  mths_since_rcnt_il                                                     20629 non-null   float64\n",
      " 64  total_bal_il                                                           21187 non-null   float64\n",
      " 65  il_util                                                                18453 non-null   float64\n",
      " 66  open_rv_12m                                                            21187 non-null   float64\n",
      " 67  open_rv_24m                                                            21187 non-null   float64\n",
      " 68  max_bal_bc                                                             21187 non-null   float64\n",
      " 69  all_util                                                               21187 non-null   float64\n",
      " 70  total_rev_hi_lim                                                       786400 non-null  float64\n",
      " 71  inq_fi                                                                 21187 non-null   float64\n",
      " 72  total_cu_tl                                                            21187 non-null   float64\n",
      " 73  inq_last_12m;;;;;;;;;;;;;;;;;;;;;;;;;;;;;;;;;;;;;;;;;;;;;;;;;;;;;;;;;  833400 non-null  object \n",
      "dtypes: float64(48), int64(2), object(24)\n",
      "memory usage: 470.5+ MB\n",
      "None\n"
     ]
    }
   ],
   "source": [
    "# print info of df\n",
    "print('Dataset Info: ')\n",
    "print(df.info())"
   ]
  },
  {
   "cell_type": "code",
   "execution_count": 260,
   "id": "5f4c1881",
   "metadata": {},
   "outputs": [
    {
     "name": "stdout",
     "output_type": "stream",
     "text": [
      "['id', 'member_id', 'loan_amnt', 'funded_amnt', 'funded_amnt_inv', 'term', 'int_rate', 'installment', 'grade', 'sub_grade', 'emp_title', 'emp_length', 'home_ownership', 'annual_inc', 'verification_status', 'issue_d', 'loan_status', 'pymnt_plan', 'url', 'desc', 'purpose', 'title', 'zip_code', 'addr_state', 'dti', 'delinq_2yrs', 'earliest_cr_line', 'inq_last_6mths', 'mths_since_last_delinq', 'mths_since_last_record', 'open_acc', 'pub_rec', 'revol_bal', 'revol_util', 'total_acc', 'initial_list_status', 'out_prncp', 'out_prncp_inv', 'total_pymnt', 'total_pymnt_inv', 'total_rec_prncp', 'total_rec_int', 'total_rec_late_fee', 'recoveries', 'collection_recovery_fee', 'last_pymnt_d', 'last_pymnt_amnt', 'next_pymnt_d', 'last_credit_pull_d', 'collections_12_mths_ex_med', 'mths_since_last_major_derog', 'policy_code', 'application_type', 'annual_inc_joint', 'dti_joint', 'verification_status_joint', 'acc_now_delinq', 'tot_coll_amt', 'tot_cur_bal', 'open_acc_6m', 'open_il_6m', 'open_il_12m', 'open_il_24m', 'mths_since_rcnt_il', 'total_bal_il', 'il_util', 'open_rv_12m', 'open_rv_24m', 'max_bal_bc', 'all_util', 'total_rev_hi_lim', 'inq_fi', 'total_cu_tl', 'inq_last_12m;;;;;;;;;;;;;;;;;;;;;;;;;;;;;;;;;;;;;;;;;;;;;;;;;;;;;;;;;']\n"
     ]
    }
   ],
   "source": [
    "colonnes = df.columns.tolist()\n",
    "print(colonnes)"
   ]
  },
  {
   "cell_type": "markdown",
   "id": "8ceff698",
   "metadata": {},
   "source": [
    "## Selecting main features for modeling sentiment classifier"
   ]
  },
  {
   "cell_type": "code",
   "execution_count": 262,
   "id": "ce186082",
   "metadata": {},
   "outputs": [
    {
     "data": {
      "text/plain": [
       "loan_status\n",
       "Current                                                586525\n",
       "Fully Paid                                             176783\n",
       "Charged Off                                             39465\n",
       "Late (31-120 days)                                      11238\n",
       "Issued                                                   8379\n",
       "In Grace Period                                          6070\n",
       "Late (16-30 days)                                        2294\n",
       "Default                                                  1178\n",
       "Does not meet the credit policy. Status:Fully Paid       1072\n",
       "Does not meet the credit policy. Status:Charged Off       396\n",
       "Name: count, dtype: int64"
      ]
     },
     "execution_count": 262,
     "metadata": {},
     "output_type": "execute_result"
    }
   ],
   "source": [
    "df['loan_status'].value_counts(dropna=False)"
   ]
  },
  {
   "cell_type": "code",
   "execution_count": 263,
   "id": "7972950a",
   "metadata": {},
   "outputs": [
    {
     "data": {
      "text/html": [
       "<div>\n",
       "<style scoped>\n",
       "    .dataframe tbody tr th:only-of-type {\n",
       "        vertical-align: middle;\n",
       "    }\n",
       "\n",
       "    .dataframe tbody tr th {\n",
       "        vertical-align: top;\n",
       "    }\n",
       "\n",
       "    .dataframe thead th {\n",
       "        text-align: right;\n",
       "    }\n",
       "</style>\n",
       "<table border=\"1\" class=\"dataframe\">\n",
       "  <thead>\n",
       "    <tr style=\"text-align: right;\">\n",
       "      <th></th>\n",
       "      <th>loan_status</th>\n",
       "    </tr>\n",
       "  </thead>\n",
       "  <tbody>\n",
       "    <tr>\n",
       "      <th>0</th>\n",
       "      <td>Fully Paid</td>\n",
       "    </tr>\n",
       "    <tr>\n",
       "      <th>1</th>\n",
       "      <td>Charged Off</td>\n",
       "    </tr>\n",
       "    <tr>\n",
       "      <th>2</th>\n",
       "      <td>Fully Paid</td>\n",
       "    </tr>\n",
       "    <tr>\n",
       "      <th>3</th>\n",
       "      <td>Fully Paid</td>\n",
       "    </tr>\n",
       "    <tr>\n",
       "      <th>4</th>\n",
       "      <td>Fully Paid</td>\n",
       "    </tr>\n",
       "  </tbody>\n",
       "</table>\n",
       "</div>"
      ],
      "text/plain": [
       "   loan_status\n",
       "0   Fully Paid\n",
       "1  Charged Off\n",
       "2   Fully Paid\n",
       "3   Fully Paid\n",
       "4   Fully Paid"
      ]
     },
     "execution_count": 263,
     "metadata": {},
     "output_type": "execute_result"
    }
   ],
   "source": [
    "df1 = df[['loan_status']]\n",
    "df1.head()"
   ]
  },
  {
   "cell_type": "code",
   "execution_count": 264,
   "id": "22612ab4",
   "metadata": {},
   "outputs": [],
   "source": [
    "# On définit la liste des colonnes/features\n",
    "features = [\n",
    "    'loan_amnt', 'term', 'int_rate', 'installment',\n",
    "    'annual_inc', 'delinq_2yrs', \n",
    "    'emp_length', 'home_ownership', 'verification_status',\n",
    "    'purpose'\n",
    "]"
   ]
  },
  {
   "cell_type": "markdown",
   "id": "fe6e529d",
   "metadata": {},
   "source": [
    "## EDA"
   ]
  },
  {
   "cell_type": "code",
   "execution_count": 268,
   "id": "dc8c052a",
   "metadata": {},
   "outputs": [
    {
     "name": "stdout",
     "output_type": "stream",
     "text": [
      "<class 'pandas.core.frame.DataFrame'>\n",
      "RangeIndex: 833400 entries, 0 to 833399\n",
      "Data columns (total 1 columns):\n",
      " #   Column       Non-Null Count   Dtype \n",
      "---  ------       --------------   ----- \n",
      " 0   loan_status  833400 non-null  object\n",
      "dtypes: object(1)\n",
      "memory usage: 6.4+ MB\n"
     ]
    }
   ],
   "source": [
    "# print info of df\n",
    "df1.info()"
   ]
  },
  {
   "cell_type": "code",
   "execution_count": 269,
   "id": "25a2b35e",
   "metadata": {},
   "outputs": [
    {
     "data": {
      "text/plain": [
       "loan_status\n",
       "Current                                                586525\n",
       "Fully Paid                                             176783\n",
       "Charged Off                                             39465\n",
       "Late (31-120 days)                                      11238\n",
       "Issued                                                   8379\n",
       "In Grace Period                                          6070\n",
       "Late (16-30 days)                                        2294\n",
       "Default                                                  1178\n",
       "Does not meet the credit policy. Status:Fully Paid       1072\n",
       "Does not meet the credit policy. Status:Charged Off       396\n",
       "Name: count, dtype: int64"
      ]
     },
     "execution_count": 269,
     "metadata": {},
     "output_type": "execute_result"
    }
   ],
   "source": [
    "# Count the sentiment labels by class\n",
    "df['loan_status'].value_counts().sort_values(ascending=False)"
   ]
  },
  {
   "cell_type": "markdown",
   "id": "581b4cd7",
   "metadata": {},
   "source": [
    "## Clean data"
   ]
  },
  {
   "cell_type": "code",
   "execution_count": null,
   "id": "bb17d09e",
   "metadata": {},
   "outputs": [],
   "source": [
    "# 3. Nettoyage : suppression des colonnes inutiles\n",
    "#df.drop(columns=[\"id\", \"member_id\", \"url\", \"desc\", \"title\", \"zip_code\", \"emp_title\",\n",
    "   # \"tot_coll_amt\", \"inq_fi\", \"il_util\", \"last_credit_pull_d\",\n",
    "    #\"policy_code\", \"next_pymnt_d\", \"collections_12_mths_ex_med\",\n",
    "    #\"mths_since_last_major_derog\",\n",
    "    #\"annual_inc_joint\", \"dti_joint\", \"verification_status_joint\",\n",
    "    #\"acc_now_delinq\",\n",
    "    #\"total_rec_prncp\", \"total_rec_int\",\n",
    "    #\"recoveries\", \"issue_d\", \"initial_list_status\",\n",
    "    #\"out_prncp\", \"out_prncp_inv\"], inplace=True)"
   ]
  },
  {
   "cell_type": "code",
   "execution_count": null,
   "id": "f82c8ab0",
   "metadata": {},
   "outputs": [],
   "source": [
    "# 4. Suppression des lignes icomplet\n",
    "#df2 = df.loc[:, df.isnull().mean() < 0.7]"
   ]
  },
  {
   "cell_type": "code",
   "execution_count": 270,
   "id": "72510308",
   "metadata": {},
   "outputs": [
    {
     "name": "stdout",
     "output_type": "stream",
     "text": [
      "target\n",
      "0.0    0.817501\n",
      "1.0    0.182499\n",
      "Name: proportion, dtype: float64\n"
     ]
    }
   ],
   "source": [
    "# 5. Création de la variable cible binaire : 1 = défaut, 0 = remboursé\n",
    "defaut_mapping = {\n",
    "    \"Charged Off\": 1,\n",
    "    \"Fully Paid\": 0\n",
    "}\n",
    "df['target'] = df['loan_status'].map(defaut_mapping)\n",
    "df = df[df['target'].notnull()]  # Ne garde que les lignes avec target définie\n",
    "\n",
    "print(df['target'].value_counts(normalize=True))"
   ]
  },
  {
   "cell_type": "code",
   "execution_count": null,
   "id": "4128854b",
   "metadata": {},
   "outputs": [],
   "source": [
    "# 8. Suppression de la colonne d'origine\n",
    "#df.drop(columns=['loan_status'], inplace=True,)"
   ]
  },
  {
   "cell_type": "code",
   "execution_count": 90,
   "id": "d544a19b",
   "metadata": {},
   "outputs": [
    {
     "name": "stderr",
     "output_type": "stream",
     "text": [
      "C:\\Users\\mamat\\AppData\\Local\\Temp\\ipykernel_16180\\2074183907.py:2: FutureWarning: Downcasting object dtype arrays on .fillna, .ffill, .bfill is deprecated and will change in a future version. Call result.infer_objects(copy=False) instead. To opt-in to the future behavior, set `pd.set_option('future.no_silent_downcasting', True)`\n",
      "  df.fillna(0, inplace=True)\n"
     ]
    }
   ],
   "source": [
    "# 9. Remplissage des valeurs manquantes\n",
    "#df.fillna(0, inplace=True)"
   ]
  },
  {
   "cell_type": "markdown",
   "id": "74686002",
   "metadata": {},
   "source": []
  },
  {
   "cell_type": "code",
   "execution_count": 131,
   "id": "b9ef61f9",
   "metadata": {},
   "outputs": [],
   "source": [
    "# On définit la liste des colonnes/features\n",
    "#features = [\n",
    " #   'loan_amnt', 'term', 'int_rate', 'installment',\n",
    "   # 'annual_inc', 'delinq_2yrs',  'emp_length', 'home_ownership', 'verification_status','purpose'\n",
    "#]"
   ]
  },
  {
   "cell_type": "code",
   "execution_count": 271,
   "id": "1507cbc9",
   "metadata": {},
   "outputs": [
    {
     "name": "stdout",
     "output_type": "stream",
     "text": [
      "['loan_amnt', 'term', 'int_rate', 'installment', 'annual_inc', 'delinq_2yrs', 'emp_length', 'home_ownership', 'verification_status', 'purpose']\n"
     ]
    }
   ],
   "source": [
    "# creation de la nouvelle base \n",
    "\n",
    "# 1.  On a déjà définit la liste des colonnes/features #features \n",
    "\n",
    "# 2.  on s'assure que toutes ces colonnes existent dans df\n",
    "features_valides = [c for c in features if c in df.columns]\n",
    "print(features_valides)\n"
   ]
  },
  {
   "cell_type": "code",
   "execution_count": 272,
   "id": "8a7c665f",
   "metadata": {},
   "outputs": [
    {
     "name": "stdout",
     "output_type": "stream",
     "text": [
      "Dimensions du DataFrame modèle : (216248, 11)\n"
     ]
    },
    {
     "data": {
      "text/html": [
       "<div>\n",
       "<style scoped>\n",
       "    .dataframe tbody tr th:only-of-type {\n",
       "        vertical-align: middle;\n",
       "    }\n",
       "\n",
       "    .dataframe tbody tr th {\n",
       "        vertical-align: top;\n",
       "    }\n",
       "\n",
       "    .dataframe thead th {\n",
       "        text-align: right;\n",
       "    }\n",
       "</style>\n",
       "<table border=\"1\" class=\"dataframe\">\n",
       "  <thead>\n",
       "    <tr style=\"text-align: right;\">\n",
       "      <th></th>\n",
       "      <th>target</th>\n",
       "      <th>loan_amnt</th>\n",
       "      <th>term</th>\n",
       "      <th>int_rate</th>\n",
       "      <th>installment</th>\n",
       "      <th>annual_inc</th>\n",
       "      <th>delinq_2yrs</th>\n",
       "      <th>emp_length</th>\n",
       "      <th>home_ownership</th>\n",
       "      <th>verification_status</th>\n",
       "      <th>purpose</th>\n",
       "    </tr>\n",
       "  </thead>\n",
       "  <tbody>\n",
       "    <tr>\n",
       "      <th>0</th>\n",
       "      <td>0.0</td>\n",
       "      <td>5000.0</td>\n",
       "      <td>36 months</td>\n",
       "      <td>10.65</td>\n",
       "      <td>162.87</td>\n",
       "      <td>24000.0</td>\n",
       "      <td>0.0</td>\n",
       "      <td>10+ years</td>\n",
       "      <td>RENT</td>\n",
       "      <td>Verified</td>\n",
       "      <td>credit_card</td>\n",
       "    </tr>\n",
       "    <tr>\n",
       "      <th>1</th>\n",
       "      <td>1.0</td>\n",
       "      <td>2500.0</td>\n",
       "      <td>60 months</td>\n",
       "      <td>15.27</td>\n",
       "      <td>59.83</td>\n",
       "      <td>30000.0</td>\n",
       "      <td>0.0</td>\n",
       "      <td>&lt; 1 year</td>\n",
       "      <td>RENT</td>\n",
       "      <td>Source Verified</td>\n",
       "      <td>car</td>\n",
       "    </tr>\n",
       "    <tr>\n",
       "      <th>2</th>\n",
       "      <td>0.0</td>\n",
       "      <td>2400.0</td>\n",
       "      <td>36 months</td>\n",
       "      <td>15.96</td>\n",
       "      <td>84.33</td>\n",
       "      <td>12252.0</td>\n",
       "      <td>0.0</td>\n",
       "      <td>10+ years</td>\n",
       "      <td>RENT</td>\n",
       "      <td>Not Verified</td>\n",
       "      <td>small_business</td>\n",
       "    </tr>\n",
       "    <tr>\n",
       "      <th>3</th>\n",
       "      <td>0.0</td>\n",
       "      <td>5000.0</td>\n",
       "      <td>36 months</td>\n",
       "      <td>7.90</td>\n",
       "      <td>156.46</td>\n",
       "      <td>36000.0</td>\n",
       "      <td>0.0</td>\n",
       "      <td>3 years</td>\n",
       "      <td>RENT</td>\n",
       "      <td>Source Verified</td>\n",
       "      <td>wedding</td>\n",
       "    </tr>\n",
       "    <tr>\n",
       "      <th>4</th>\n",
       "      <td>0.0</td>\n",
       "      <td>3000.0</td>\n",
       "      <td>36 months</td>\n",
       "      <td>18.64</td>\n",
       "      <td>109.43</td>\n",
       "      <td>48000.0</td>\n",
       "      <td>0.0</td>\n",
       "      <td>9 years</td>\n",
       "      <td>RENT</td>\n",
       "      <td>Source Verified</td>\n",
       "      <td>car</td>\n",
       "    </tr>\n",
       "  </tbody>\n",
       "</table>\n",
       "</div>"
      ],
      "text/plain": [
       "   target  loan_amnt        term  int_rate  installment  annual_inc  \\\n",
       "0     0.0     5000.0   36 months     10.65       162.87     24000.0   \n",
       "1     1.0     2500.0   60 months     15.27        59.83     30000.0   \n",
       "2     0.0     2400.0   36 months     15.96        84.33     12252.0   \n",
       "3     0.0     5000.0   36 months      7.90       156.46     36000.0   \n",
       "4     0.0     3000.0   36 months     18.64       109.43     48000.0   \n",
       "\n",
       "   delinq_2yrs emp_length home_ownership verification_status         purpose  \n",
       "0          0.0  10+ years           RENT            Verified     credit_card  \n",
       "1          0.0   < 1 year           RENT     Source Verified             car  \n",
       "2          0.0  10+ years           RENT        Not Verified  small_business  \n",
       "3          0.0    3 years           RENT     Source Verified         wedding  \n",
       "4          0.0    9 years           RENT     Source Verified             car  "
      ]
     },
     "execution_count": 272,
     "metadata": {},
     "output_type": "execute_result"
    }
   ],
   "source": [
    "\n",
    "# 3. on crée un  nouveau DataFrame en ne gardant la target + features valides \n",
    "df_modele = df[['target'] + features_valides].copy()\n",
    "\n",
    "# 4. Vérifiez\n",
    "print(\"Dimensions du DataFrame modèle :\", df_modele.shape)\n",
    "df_modele.head()"
   ]
  },
  {
   "cell_type": "markdown",
   "id": "ba761a81",
   "metadata": {},
   "source": [
    "## missing data"
   ]
  },
  {
   "cell_type": "code",
   "execution_count": 274,
   "id": "50d8da36",
   "metadata": {},
   "outputs": [
    {
     "name": "stdout",
     "output_type": "stream",
     "text": [
      "Nombre de valeurs manquantes par colonne :\n",
      "target                    0\n",
      "loan_amnt                 0\n",
      "term                      0\n",
      "int_rate                  0\n",
      "installment               0\n",
      "annual_inc                0\n",
      "delinq_2yrs               0\n",
      "emp_length             9032\n",
      "home_ownership            0\n",
      "verification_status       0\n",
      "purpose                   0\n",
      "dtype: int64\n"
     ]
    }
   ],
   "source": [
    "\n",
    "# on les compte\n",
    "valeurs_manq = df_modele.isnull().sum()\n",
    "\n",
    "# Pour voir les résultats\n",
    "print(\"Nombre de valeurs manquantes par colonne :\")\n",
    "print(valeurs_manq)"
   ]
  },
  {
   "cell_type": "markdown",
   "id": "390084eb",
   "metadata": {},
   "source": [
    "##### traiter les valeurs manquants "
   ]
  },
  {
   "cell_type": "code",
   "execution_count": 275,
   "id": "248583c7",
   "metadata": {},
   "outputs": [
    {
     "name": "stdout",
     "output_type": "stream",
     "text": [
      "0         10+ years\n",
      "1          < 1 year\n",
      "2         10+ years\n",
      "3           3 years\n",
      "4           9 years\n",
      "            ...    \n",
      "833372    10+ years\n",
      "833385     < 1 year\n",
      "833387      2 years\n",
      "833390    10+ years\n",
      "833392      Unknown\n",
      "Name: emp_length, Length: 216248, dtype: object\n"
     ]
    }
   ],
   "source": [
    "# j'ai fais le choix de les remplacer par 'Unknown'\n",
    "\n",
    "df_modele['emp_length'] = df_modele['emp_length'].fillna('Unknown')\n",
    "print(df_modele['emp_length'])"
   ]
  },
  {
   "cell_type": "code",
   "execution_count": 225,
   "id": "9cf56688",
   "metadata": {},
   "outputs": [],
   "source": [
    "# 5. Suppression des lignes icomplet\n",
    "#df_final = df_modele.loc[:, df.isnull().mean() < 0.7]"
   ]
  },
  {
   "cell_type": "code",
   "execution_count": 276,
   "id": "61f929ae",
   "metadata": {},
   "outputs": [
    {
     "name": "stdout",
     "output_type": "stream",
     "text": [
      "0\n",
      "\n",
      "Tous les na par colonne :\n",
      "target                 0\n",
      "loan_amnt              0\n",
      "term                   0\n",
      "int_rate               0\n",
      "installment            0\n",
      "annual_inc             0\n",
      "delinq_2yrs            0\n",
      "emp_length             0\n",
      "home_ownership         0\n",
      "verification_status    0\n",
      "purpose                0\n",
      "dtype: int64\n"
     ]
    }
   ],
   "source": [
    "\n",
    "# 3) Afficher le nouveau comptage\n",
    "print(missing_after['emp_length'])   # doit afficher 0\n",
    "print(\"\\nTous les na par colonne :\")\n",
    "print(missing_after)"
   ]
  },
  {
   "cell_type": "code",
   "execution_count": 277,
   "id": "a7e80605",
   "metadata": {},
   "outputs": [
    {
     "name": "stdout",
     "output_type": "stream",
     "text": [
      "Nombre d’observations (non-NA) par colonne :\n",
      "target                 216248\n",
      "loan_amnt              216248\n",
      "term                   216248\n",
      "int_rate               216248\n",
      "installment            216248\n",
      "annual_inc             216248\n",
      "delinq_2yrs            216248\n",
      "emp_length             216248\n",
      "home_ownership         216248\n",
      "verification_status    216248\n",
      "purpose                216248\n",
      "dtype: int64\n"
     ]
    }
   ],
   "source": [
    "# on compte le nombre d'obersvation dans notre data :\n",
    "nombre_obs= df_modele.count()\n",
    "\n",
    "# 2. Affichez le résultat :\n",
    "print(\"Nombre d’observations (non-NA) par colonne :\")\n",
    "print(nombre_obs)"
   ]
  },
  {
   "cell_type": "code",
   "execution_count": 279,
   "id": "e098a5b4",
   "metadata": {},
   "outputs": [
    {
     "name": "stdout",
     "output_type": "stream",
     "text": [
      "Dimensions du DataFrame modèle : (216248, 11)\n"
     ]
    },
    {
     "data": {
      "text/html": [
       "<div>\n",
       "<style scoped>\n",
       "    .dataframe tbody tr th:only-of-type {\n",
       "        vertical-align: middle;\n",
       "    }\n",
       "\n",
       "    .dataframe tbody tr th {\n",
       "        vertical-align: top;\n",
       "    }\n",
       "\n",
       "    .dataframe thead th {\n",
       "        text-align: right;\n",
       "    }\n",
       "</style>\n",
       "<table border=\"1\" class=\"dataframe\">\n",
       "  <thead>\n",
       "    <tr style=\"text-align: right;\">\n",
       "      <th></th>\n",
       "      <th>target</th>\n",
       "      <th>loan_amnt</th>\n",
       "      <th>term</th>\n",
       "      <th>int_rate</th>\n",
       "      <th>installment</th>\n",
       "      <th>annual_inc</th>\n",
       "      <th>delinq_2yrs</th>\n",
       "      <th>emp_length</th>\n",
       "      <th>home_ownership</th>\n",
       "      <th>verification_status</th>\n",
       "      <th>purpose</th>\n",
       "    </tr>\n",
       "  </thead>\n",
       "  <tbody>\n",
       "    <tr>\n",
       "      <th>0</th>\n",
       "      <td>0.0</td>\n",
       "      <td>5000.0</td>\n",
       "      <td>36 months</td>\n",
       "      <td>10.65</td>\n",
       "      <td>162.87</td>\n",
       "      <td>24000.0</td>\n",
       "      <td>0.0</td>\n",
       "      <td>10+ years</td>\n",
       "      <td>RENT</td>\n",
       "      <td>Verified</td>\n",
       "      <td>credit_card</td>\n",
       "    </tr>\n",
       "    <tr>\n",
       "      <th>1</th>\n",
       "      <td>1.0</td>\n",
       "      <td>2500.0</td>\n",
       "      <td>60 months</td>\n",
       "      <td>15.27</td>\n",
       "      <td>59.83</td>\n",
       "      <td>30000.0</td>\n",
       "      <td>0.0</td>\n",
       "      <td>&lt; 1 year</td>\n",
       "      <td>RENT</td>\n",
       "      <td>Source Verified</td>\n",
       "      <td>car</td>\n",
       "    </tr>\n",
       "    <tr>\n",
       "      <th>2</th>\n",
       "      <td>0.0</td>\n",
       "      <td>2400.0</td>\n",
       "      <td>36 months</td>\n",
       "      <td>15.96</td>\n",
       "      <td>84.33</td>\n",
       "      <td>12252.0</td>\n",
       "      <td>0.0</td>\n",
       "      <td>10+ years</td>\n",
       "      <td>RENT</td>\n",
       "      <td>Not Verified</td>\n",
       "      <td>small_business</td>\n",
       "    </tr>\n",
       "    <tr>\n",
       "      <th>3</th>\n",
       "      <td>0.0</td>\n",
       "      <td>5000.0</td>\n",
       "      <td>36 months</td>\n",
       "      <td>7.90</td>\n",
       "      <td>156.46</td>\n",
       "      <td>36000.0</td>\n",
       "      <td>0.0</td>\n",
       "      <td>3 years</td>\n",
       "      <td>RENT</td>\n",
       "      <td>Source Verified</td>\n",
       "      <td>wedding</td>\n",
       "    </tr>\n",
       "    <tr>\n",
       "      <th>4</th>\n",
       "      <td>0.0</td>\n",
       "      <td>3000.0</td>\n",
       "      <td>36 months</td>\n",
       "      <td>18.64</td>\n",
       "      <td>109.43</td>\n",
       "      <td>48000.0</td>\n",
       "      <td>0.0</td>\n",
       "      <td>9 years</td>\n",
       "      <td>RENT</td>\n",
       "      <td>Source Verified</td>\n",
       "      <td>car</td>\n",
       "    </tr>\n",
       "  </tbody>\n",
       "</table>\n",
       "</div>"
      ],
      "text/plain": [
       "   target  loan_amnt        term  int_rate  installment  annual_inc  \\\n",
       "0     0.0     5000.0   36 months     10.65       162.87     24000.0   \n",
       "1     1.0     2500.0   60 months     15.27        59.83     30000.0   \n",
       "2     0.0     2400.0   36 months     15.96        84.33     12252.0   \n",
       "3     0.0     5000.0   36 months      7.90       156.46     36000.0   \n",
       "4     0.0     3000.0   36 months     18.64       109.43     48000.0   \n",
       "\n",
       "   delinq_2yrs emp_length home_ownership verification_status         purpose  \n",
       "0          0.0  10+ years           RENT            Verified     credit_card  \n",
       "1          0.0   < 1 year           RENT     Source Verified             car  \n",
       "2          0.0  10+ years           RENT        Not Verified  small_business  \n",
       "3          0.0    3 years           RENT     Source Verified         wedding  \n",
       "4          0.0    9 years           RENT     Source Verified             car  "
      ]
     },
     "execution_count": 279,
     "metadata": {},
     "output_type": "execute_result"
    }
   ],
   "source": [
    "# 6. Vérifiez\n",
    "print(\"Dimensions du DataFrame modèle :\", df_modele.shape)\n",
    "df_modele.head()"
   ]
  },
  {
   "cell_type": "code",
   "execution_count": 280,
   "id": "1419592b",
   "metadata": {},
   "outputs": [
    {
     "name": "stdout",
     "output_type": "stream",
     "text": [
      "Fichier nettoyé enregistré sous 'Risque_defaut_credit_traite.csv'.\n"
     ]
    }
   ],
   "source": [
    "# 10. Sauvegarde du fichier nettoyé\n",
    "df_modele.to_csv(\"Risque_defaut_credit_traite.csv\", index=False)\n",
    "print(\"Fichier nettoyé enregistré sous 'Risque_defaut_credit_traite.csv'.\")"
   ]
  },
  {
   "cell_type": "markdown",
   "id": "bca0a3a7",
   "metadata": {},
   "source": [
    "## Create balanced dataset for modeling\n",
    "- *Remind that* the raw dataset has\n",
    "    - fully paid:    176783 samples\n",
    "    - charged off:     39465 samples\n",
    " - In this project, I choose downsampling approach to obtain the balanced dataset by choosing the cut-off sampling as the minimum class size (meaning 39465 of charged off class). This way, we still has reasonable number of sampling for modeling with machine learning and deep learning approaches.\n"
   ]
  },
  {
   "cell_type": "markdown",
   "id": "f7e33bf1",
   "metadata": {},
   "source": []
  },
  {
   "cell_type": "code",
   "execution_count": 281,
   "id": "9badfcc3",
   "metadata": {},
   "outputs": [
    {
     "name": "stdout",
     "output_type": "stream",
     "text": [
      "Taille avant équilibrage → défauts: 39465, remboursés: 176783\n",
      "On équibre à 39465 observations par classe.\n",
      "\n",
      "Après équilibrage → défauts: {1: 39465, 0: 39465}\n"
     ]
    }
   ],
   "source": [
    "# Separate the dataset by sentiment\n",
    "defaults = df_final[df_final['target'] == 1]\n",
    "paid     = df_final[df_final['target'] == 0]\n",
    "\n",
    "\n",
    "# Determine the minimum class size\n",
    "\n",
    "min_size = min(len(defaults), len(paid))\n",
    "print(f\"Taille avant équilibrage → défauts: {len(defaults)}, remboursés: {len(paid)}\")\n",
    "print(\"On équibre à\", min_size, \"observations par classe.\")\n",
    "\n",
    "# Balance the dataset by undersampling\n",
    "\n",
    "defaults_balanced = defaults.sample(min_size, random_state=42)\n",
    "paid_balanced     = paid.sample(min_size, random_state=42)\n",
    "\n",
    "\n",
    "\n",
    "# Combine the balanced datasets\n",
    "balanced_df = pd.concat([defaults_balanced, paid_balanced], axis=0)\n",
    "\n",
    "# Shuffle the balanced dataset\n",
    "\n",
    "# 5) Mélanger et remettre les index à plat\n",
    "balanced_df = balanced_df.sample(frac=1, random_state=42).reset_index(drop=True)\n",
    "\n",
    "# 6) Vérifier\n",
    "print(\"\\nAprès équilibrage → défauts:\", \n",
    "      balanced_df['target'].value_counts().to_dict())"
   ]
  },
  {
   "cell_type": "markdown",
   "id": "3d1ebe30",
   "metadata": {},
   "source": [
    "- **Remarks**: Well, we really obtained a new balance dataset for the modeling step"
   ]
  },
  {
   "cell_type": "markdown",
   "id": "343222e0",
   "metadata": {},
   "source": [
    "## Split dataset into Train, Validation and Test subsets\n",
    "- This step is important in modeling\n",
    "    - For Training: we will use Train subset (and Validation subset if applicable)\n",
    "    - For Testing: we will use Test subset\n",
    "- We will use 'stratify=balanced_df['target']' to make sure that all the subsets are sampled equally regarding the defaults classes\n",
    "- At the end, we will save all subsets into new csv file for later use"
   ]
  },
  {
   "cell_type": "markdown",
   "id": "b5119287",
   "metadata": {},
   "source": []
  },
  {
   "cell_type": "code",
   "execution_count": 284,
   "id": "f3b84438",
   "metadata": {},
   "outputs": [
    {
     "name": "stdout",
     "output_type": "stream",
     "text": [
      "Requirement already satisfied: scikit-learn in c:\\users\\mamat\\onedrive\\bureau\\python_session6\\.venv\\lib\\site-packages (1.5.0)\n",
      "Requirement already satisfied: numpy>=1.19.5 in c:\\users\\mamat\\onedrive\\bureau\\python_session6\\.venv\\lib\\site-packages (from scikit-learn) (1.26.4)\n",
      "Requirement already satisfied: scipy>=1.6.0 in c:\\users\\mamat\\onedrive\\bureau\\python_session6\\.venv\\lib\\site-packages (from scikit-learn) (1.15.3)\n",
      "Requirement already satisfied: joblib>=1.2.0 in c:\\users\\mamat\\onedrive\\bureau\\python_session6\\.venv\\lib\\site-packages (from scikit-learn) (1.5.0)\n",
      "Requirement already satisfied: threadpoolctl>=3.1.0 in c:\\users\\mamat\\onedrive\\bureau\\python_session6\\.venv\\lib\\site-packages (from scikit-learn) (3.6.0)\n",
      "Note: you may need to restart the kernel to use updated packages.\n"
     ]
    },
    {
     "name": "stderr",
     "output_type": "stream",
     "text": [
      "\n",
      "[notice] A new release of pip is available: 25.0.1 -> 25.1.1\n",
      "[notice] To update, run: python.exe -m pip install --upgrade pip\n"
     ]
    }
   ],
   "source": [
    "%pip install scikit-learn\n"
   ]
  },
  {
   "cell_type": "code",
   "execution_count": 285,
   "id": "0d74605a",
   "metadata": {},
   "outputs": [
    {
     "name": "stdout",
     "output_type": "stream",
     "text": [
      "Note: you may need to restart the kernel to use updated packages.\n"
     ]
    },
    {
     "name": "stderr",
     "output_type": "stream",
     "text": [
      "\n",
      "[notice] A new release of pip is available: 25.0.1 -> 25.1.1\n",
      "[notice] To update, run: python.exe -m pip install --upgrade pip\n"
     ]
    }
   ],
   "source": [
    "\n",
    "%pip install scikit-learn --quiet\n",
    "\n"
   ]
  },
  {
   "cell_type": "code",
   "execution_count": 287,
   "id": "d0540f87",
   "metadata": {},
   "outputs": [
    {
     "name": "stdout",
     "output_type": "stream",
     "text": [
      "Requirement already satisfied: scipy in c:\\users\\mamat\\onedrive\\bureau\\python_session6\\.venv\\lib\\site-packages (1.15.3)\n",
      "Requirement already satisfied: scikit-learn in c:\\users\\mamat\\onedrive\\bureau\\python_session6\\.venv\\lib\\site-packages (1.5.0)\n",
      "Requirement already satisfied: numpy<2.5,>=1.23.5 in c:\\users\\mamat\\onedrive\\bureau\\python_session6\\.venv\\lib\\site-packages (from scipy) (1.26.4)\n",
      "Requirement already satisfied: joblib>=1.2.0 in c:\\users\\mamat\\onedrive\\bureau\\python_session6\\.venv\\lib\\site-packages (from scikit-learn) (1.5.0)\n",
      "Requirement already satisfied: threadpoolctl>=3.1.0 in c:\\users\\mamat\\onedrive\\bureau\\python_session6\\.venv\\lib\\site-packages (from scikit-learn) (3.6.0)\n",
      "Note: you may need to restart the kernel to use updated packages.\n"
     ]
    },
    {
     "name": "stderr",
     "output_type": "stream",
     "text": [
      "\n",
      "[notice] A new release of pip is available: 25.0.1 -> 25.1.1\n",
      "[notice] To update, run: python.exe -m pip install --upgrade pip\n"
     ]
    }
   ],
   "source": [
    "%pip install scipy scikit-learn"
   ]
  },
  {
   "cell_type": "code",
   "execution_count": 242,
   "id": "06e8f03b",
   "metadata": {},
   "outputs": [
    {
     "ename": "NameError",
     "evalue": "name 'train_test_split' is not defined",
     "output_type": "error",
     "traceback": [
      "\u001b[31m---------------------------------------------------------------------------\u001b[39m",
      "\u001b[31mNameError\u001b[39m                                 Traceback (most recent call last)",
      "\u001b[36mCell\u001b[39m\u001b[36m \u001b[39m\u001b[32mIn[242]\u001b[39m\u001b[32m, line 2\u001b[39m\n\u001b[32m      1\u001b[39m \u001b[38;5;66;03m# Split the dataset into train, validation, and test sets\u001b[39;00m\n\u001b[32m----> \u001b[39m\u001b[32m2\u001b[39m train_df, temp_df = \u001b[43mtrain_test_split\u001b[49m(balanced_df, test_size=\u001b[32m0.3\u001b[39m, random_state=\u001b[32m42\u001b[39m, stratify=balanced_df[\u001b[33m'\u001b[39m\u001b[33mtarget\u001b[39m\u001b[33m'\u001b[39m])\n\u001b[32m      3\u001b[39m val_df, test_df = train_test_split(temp_df, test_size=\u001b[32m0.5\u001b[39m, random_state=\u001b[32m42\u001b[39m, stratify=temp_df[\u001b[33m'\u001b[39m\u001b[33mtarget\u001b[39m\u001b[33m'\u001b[39m])\n\u001b[32m      5\u001b[39m \u001b[38;5;66;03m# Print the sizes of the datasets\u001b[39;00m\n",
      "\u001b[31mNameError\u001b[39m: name 'train_test_split' is not defined"
     ]
    }
   ],
   "source": [
    "# Split the dataset into train, validation, and test sets\n",
    "train_df, temp_df = train_test_split(balanced_df, test_size=0.3, random_state=42, stratify=balanced_df['target'])\n",
    "val_df, test_df = train_test_split(temp_df, test_size=0.5, random_state=42, stratify=temp_df['target'])\n",
    "\n",
    "# Print the sizes of the datasets\n",
    "print(f\"Train set size: {len(train_df)}\")\n",
    "print(f\"Validation set size: {len(val_df)}\")\n",
    "print(f\"Test set size: {len(test_df)}\")\n",
    "\n",
    "# 5) Sauvegarde en CSV\n",
    "train_df.to_csv('data/default_risk/train_default.csv',      index=False)\n",
    "val_df.to_csv(  'data/default_risk/val_default.csv',        index=False)\n",
    "test_df.to_csv( 'data/default_risk/test_default.csv',       index=False)"
   ]
  }
 ],
 "metadata": {
  "kernelspec": {
   "display_name": ".venv",
   "language": "python",
   "name": "python3"
  },
  "language_info": {
   "codemirror_mode": {
    "name": "ipython",
    "version": 3
   },
   "file_extension": ".py",
   "mimetype": "text/x-python",
   "name": "python",
   "nbconvert_exporter": "python",
   "pygments_lexer": "ipython3",
   "version": "3.12.10"
  }
 },
 "nbformat": 4,
 "nbformat_minor": 5
}
